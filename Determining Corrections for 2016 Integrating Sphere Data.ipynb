{
 "cells": [
  {
   "cell_type": "markdown",
   "metadata": {},
   "source": [
    "## Introduction\n",
    "$\\def\\lex{\\lambda_{ex}}$\n",
    "The quantum yield of a fluorophore is defined as the number of photons the material emits for every photon that it absorbed. That is, $\\Phi\\equiv \\dfrac{N_{em}}{N_{ab}}$. To calculate these two $N$ values, we use a Photon Technologies Internaltional fluorescence spectrometer system (PTI) to measure two emission spectra at some common excitation wavelength $\\lambda_{ex}$. The first is a blank spectrum, $I_b(\\lambda)$, and is taken using a cuvette filled exclusively with our solvent of choice, e.g. ethanol (EtOH), LAB. The second spectrum is taken with concentration of our fluorophore in the solvent. We label the raw emission spectrum with $I_f(\\lambda)$, for fluorophore. \n",
    "\n",
    "These two samples must be corrected to compensate for:\n",
    "1. Time-dependent variations in the PTI light source intensity (a Xenon arc lamp)\n",
    "2. Wavelegnth-dependent sensitivities in the system, espectially those from the integrating sphere (IS)\n",
    "\n",
    "Light from the arc lamp is immediately directed into a series of monochromators that only allows light to come through from a small range of wavelengths around $\\lex$. The remaining light then passes through a beamsplitter. One beam goes to cuvette samples, while the other is directed to a photodiode. The resulting potential difference is measured and used to determine how the incoming intensity of light varies in time. "
   ]
  },
  {
   "cell_type": "code",
   "execution_count": 28,
   "metadata": {
    "collapsed": true
   },
   "outputs": [],
   "source": [
    "import copy\n",
    "import matplotlib.pyplot as plt\n",
    "import numpy as np\n",
    "import scipy as sp\n",
    "\n",
    "import PTI.Corrections as PTICorr\n",
    "from PTI.ReadDataFiles import PTIData\n",
    "import PTI.BaselineFitting as PTIBaseline\n",
    "import PTI.QuantumYield as PTIQY"
   ]
  },
  {
   "cell_type": "markdown",
   "metadata": {},
   "source": [
    "## Import the Data"
   ]
  },
  {
   "cell_type": "code",
   "execution_count": 20,
   "metadata": {
    "collapsed": true
   },
   "outputs": [],
   "source": [
    "# The file paths for the blank LAB measurements\n",
    "LAB_paths = [\"Henry/Sphere/bisMSB_LAB/EmissionScan_LAB_ex350_2sec_160823.txt\",\n",
    "             \"Henry/Sphere/bisMSB_LAB/EmissionScan_LAB_ex360_2sec_160823.txt\",\n",
    "             \"Henry/Sphere/bisMSB_LAB/EmissionScan_LAB_ex370_2sec_160823.txt\",\n",
    "             \"Henry/Sphere/bisMSB_LAB/EmissionScan_LAB_ex380_2sec_160823.txt\"]\n",
    "\n",
    "# The file paths for the 4.47 mg/L bisMSB in LAB measurements\n",
    "bisMSB_4x47_paths = [\"Henry/Sphere/bisMSB_LAB/EmissionScan_bisMSBinLAB_4.47mgL_ex350_2sec_160824.txt\",\n",
    "                     \"Henry/Sphere/bisMSB_LAB/EmissionScan_bisMSBinLAB_4.47mgL_ex360_2sec_160824.txt\",\n",
    "                     \"Henry/Sphere/bisMSB_LAB/EmissionScan_bisMSBinLAB_4.47mgL_ex370_2sec_160824.txt\",\n",
    "                     \"Henry/Sphere/bisMSB_LAB/EmissionScan_bisMSBinLAB_4.47mgL_ex380_2sec_160824.txt\"]\n",
    "\n",
    "# The file paths for the blank ethanol measurements\n",
    "EtOH_paths = [\"Henry/Sphere/PPO_ETOH/EmissionScan_ETOH_ex310_2sec_160830.txt\",\n",
    "              \"Henry/Sphere/PPO_ETOH/EmissionScan_ETOH_ex320_2sec_160830.txt\",\n",
    "              \"Henry/Sphere/PPO_ETOH/EmissionScan_ETOH_ex330_2sec_160830.txt\",\n",
    "              \"Henry/Sphere/PPO_ETOH/EmissionScan_ETOH_ex340_2sec_160830.txt\"]\n",
    "\n",
    "# The file paths for the 0.31 mg/L PPO in ethanol measurements\n",
    "PPO_0x31_paths = [\"Henry/Sphere/PPO_ETOH/EmissionScan_0x31gperL_PPOinETOH_ex310_2sec_160831.txt\",\n",
    "                  \"Henry/Sphere/PPO_ETOH/EmissionScan_0x31gperL_PPOinETOH_ex320_2sec_160831.txt\",\n",
    "                  \"Henry/Sphere/PPO_ETOH/EmissionScan_0x31gperL_PPOinETOH_ex330_2sec_160831.txt\",\n",
    "                  \"Henry/Sphere/PPO_ETOH/EmissionScan_0x31gperL_PPOinETOH_ex340_2sec_160831.txt\"]\n",
    "\n",
    "# The file paths for the 3.14 mg/L PPO in ethanol measurements\n",
    "PPO_3x14_paths = [\"Henry/Sphere/PPO_ETOH/EmissionScan_3x14gperL_PPOinETOH_ex310_2sec_160831.txt\",\n",
    "                  \"Henry/Sphere/PPO_ETOH/EmissionScan_3x14gperL_PPOinETOH_ex320_2sec_160831.txt\",\n",
    "                  \"Henry/Sphere/PPO_ETOH/EmissionScan_3x14gperL_PPOinETOH_ex330_2sec_160831.txt\",\n",
    "                  \"Henry/Sphere/PPO_ETOH/EmissionScan_3x14gperL_PPOinETOH_ex340_2sec_160831.txt\"]"
   ]
  },
  {
   "cell_type": "code",
   "execution_count": 21,
   "metadata": {
    "collapsed": true
   },
   "outputs": [],
   "source": [
    "'''Requires: A list of file paths for PTI data files\n",
    "   Effect:   Takes each path and uses it to read into a PTIData instance\n",
    "   Returns:  A list of PTIData instances. Each element comes from the corresponding\n",
    "             path in the list argument.'''\n",
    "def convert_paths_to_PTIData_objs(list_of_paths):\n",
    "    list_of_PTIData = list()\n",
    "    for path in list_of_paths:\n",
    "        list_of_PTIData.append(PTIData(path))\n",
    "    return list_of_PTIData"
   ]
  },
  {
   "cell_type": "code",
   "execution_count": 22,
   "metadata": {
    "collapsed": true
   },
   "outputs": [],
   "source": [
    "LAB = convert_paths_to_PTIData_objs(LAB_paths)\n",
    "bisMSB_4x47 = convert_paths_to_PTIData_objs(bisMSB_4x47_paths)\n",
    "\n",
    "ETOH = convert_paths_to_PTIData_objs(EtOH_paths)\n",
    "PPO_0x31 = convert_paths_to_PTIData_objs(PPO_0x31_paths)\n",
    "PPO_3x14 = convert_paths_to_PTIData_objs(PPO_3x14_paths)"
   ]
  },
  {
   "cell_type": "markdown",
   "metadata": {},
   "source": [
    "## Undoing the Real-time Corrections made by the Felix GX Software"
   ]
  },
  {
   "cell_type": "code",
   "execution_count": 5,
   "metadata": {
    "collapsed": true,
    "scrolled": false
   },
   "outputs": [],
   "source": [
    "'''Arrays to store calculations'''\n",
    "# The excitation wavelengths of each scan\n",
    "ex_wavelengths = list()\n",
    "\n",
    "# The mean decorrection:raw ratio\n",
    "mean_ratios = list()\n",
    "\n",
    "# The average diode signal\n",
    "mean_diode_signal = list()\n",
    "\n",
    "'''Decorrection ata and parameters'''\n",
    "# Collect all the data instances into one cumulative list\n",
    "all_data_sets = LAB + bisMSB_4x47 + ETOH + PPO_0x31 + PPO_3x14\n",
    "\n",
    "# Which corrections to undo\n",
    "diode_signal = True # We will use the stored diode signal to undo this correction\n",
    "ex_LUT = False\n",
    "em_LUT = False\n",
    "\n",
    "# The degree of spline interpolation to use for look-up table values\n",
    "interp_degree = 'cubic' \n",
    "\n",
    "'''Decorrecting and creating plots'''\n",
    "for data_set in all_data_sets:\n",
    "    fname = data_set.file_path.split('/')[-1][:-4]\n",
    "    # Get the decorrected spectrum\n",
    "    decorr = PTICorr.decorrect_cor_data(PTIData_instance = data_set,\n",
    "                                        interp_method = interp_degree,\n",
    "                                        diode = diode_signal,\n",
    "                                        excorr = ex_LUT,\n",
    "                                        emcorr = em_LUT)\n",
    "    \n",
    "    \n",
    "    \n",
    "    # Compare the decorrected to the raw data\n",
    "    difference = decorr.cor_data - data_set.raw_data\n",
    "    ratio = decorr.cor_data / data_set.raw_data\n",
    "    \n",
    "    # Fill the two auxilliary arrays\n",
    "    ex_wavelengths.append(data_set.ex_range[0])\n",
    "    mean_ratios.append(np.mean(ratio))\n",
    "    mean_diode_signal.append(np.mean(data_set.diode))\n",
    "    \n",
    "    # Create our figure and 3 subplots\n",
    "    fig = plt.figure(figsize = (16,10))\n",
    "    ax1 = plt.subplot2grid((2,2), (0,0), colspan = 2)\n",
    "    ax2 = plt.subplot2grid((2,2), (1,0))\n",
    "    ax3 = plt.subplot2grid((2,2), (1,1))\n",
    "    \n",
    "    # Adding titles to everything\n",
    "    suptitle = fig.suptitle(\"Effects of Manually Decorrecting from Felix\\n%s\" %fname,y = 1.06, fontsize = 20)\n",
    "    ax1.set_title(\"Decorrected and Raw Data Data\", fontsize = 15)\n",
    "    ax2.set_title(\"Difference between Decorrected and Raw Data\", fontsize = 15)\n",
    "    ax3.set_title(\"Ratio between Decorrected and Raw Data\\n\" + \n",
    "                  r'$\\mu =$ %.2f' %(np.mean(ratio)) + '\\t' + \n",
    "                  r'$\\sigma =$ %.2f $\\cdot 10^{-8}$' %(1.0e8*np.std(ratio)), fontsize = 15)\n",
    "    \n",
    "    # Plot the relevant data in each subplot\n",
    "    ax1.plot(data_set.wavelengths, data_set.raw_data, 'k')\n",
    "    ax1.plot(decorr.wavelengths, decorr.cor_data, 'r')\n",
    "    ax2.plot(data_set.wavelengths, difference)\n",
    "    ax3.plot(data_set.wavelengths, ratio)\n",
    "    \n",
    "    # Format the subplots\n",
    "    ax1.legend([\"Raw\", \"Decorrected\"], fontsize = 15)\n",
    "    \n",
    "    \n",
    "    ax3.set_ylim([0.5, 1.5])\n",
    "    \n",
    "    for ax in [ax1, ax2, ax3]:\n",
    "        ax.grid()\n",
    "        ax.set_xlim([300, 650])\n",
    "        \n",
    "    plt.tight_layout()\n",
    "    plt.savefig(\"2016_Sphere_Decorrection_Plots/%s.png\" %(fname),\n",
    "               dpi=fig.dpi, bbox_inches='tight',bbox_extra_artists=[suptitle])\n",
    "    plt.close('all')\n"
   ]
  },
  {
   "cell_type": "code",
   "execution_count": 6,
   "metadata": {
    "collapsed": true
   },
   "outputs": [],
   "source": [
    "fig = plt.figure(figsize = (16,10))\n",
    "ax = fig.add_subplot(1,1,1)\n",
    "ax.plot(mean_ratios, ex_wavelengths, 'go')\n",
    "ax.plot(mean_ratios, mean_diode_signal, 'bo')\n",
    "ax.set_yscale('log')\n",
    "plt.show()"
   ]
  }
 ],
 "metadata": {
  "kernelspec": {
   "display_name": "Python 2",
   "language": "python",
   "name": "python2"
  },
  "language_info": {
   "codemirror_mode": {
    "name": "ipython",
    "version": 2
   },
   "file_extension": ".py",
   "mimetype": "text/x-python",
   "name": "python",
   "nbconvert_exporter": "python",
   "pygments_lexer": "ipython2",
   "version": "2.7.13"
  }
 },
 "nbformat": 4,
 "nbformat_minor": 2
}
